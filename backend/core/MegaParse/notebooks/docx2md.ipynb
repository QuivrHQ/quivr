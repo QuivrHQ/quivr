{
 "cells": [
  {
   "cell_type": "code",
   "execution_count": 1,
   "metadata": {},
   "outputs": [],
   "source": [
    "# -*- coding: utf-8 -*-\n",
    "from pathlib import Path\n",
    "from src.Converter import DOCXConverter"
   ]
  },
  {
   "cell_type": "code",
   "execution_count": 2,
   "metadata": {},
   "outputs": [],
   "source": [
    "converter = DOCXConverter()\n",
    "md_content = converter.convert('./input/CDP_QUAL_CHART_01_CHARTE PRODUITS_2023.12.13.docx')\n",
    "converter.save_md(md_content, Path('./output/CDP_QUAL_CHART_01_CHARTE PRODUITS_2023.12.13.md'))"
   ]
  },
  {
   "cell_type": "code",
   "execution_count": 138,
   "metadata": {},
   "outputs": [],
   "source": [
    "# import mammoth to compare results\n",
    "# md = mammoth.convert_to_markdown('./input/CDP_QUAL_CHART_01_CHARTE PRODUITS_2023.12.13.docx')"
   ]
  }
 ],
 "metadata": {
  "kernelspec": {
   "display_name": "QuivrParse-DS8JDGq8",
   "language": "python",
   "name": "python3"
  },
  "language_info": {
   "codemirror_mode": {
    "name": "ipython",
    "version": 3
   },
   "file_extension": ".py",
   "mimetype": "text/x-python",
   "name": "python",
   "nbconvert_exporter": "python",
   "pygments_lexer": "ipython3",
   "version": "3.12.3"
  }
 },
 "nbformat": 4,
 "nbformat_minor": 2
}
